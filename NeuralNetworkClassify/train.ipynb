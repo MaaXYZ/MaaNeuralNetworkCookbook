{
 "cells": [
  {
   "cell_type": "markdown",
   "metadata": {},
   "source": [
    "# 准备数据集\n",
    "\n",
    "## 读取数据集\n",
    "\n",
    "读取我们之前步骤中准备好的数据集。\n",
    "\n",
    "根据经验一般分类数据集都不大，为了方便以及运行效率，我们将它们一次性全部读入内存中。\n",
    "\n",
    "如果爆内存了可以修改为要用哪些再读哪些。\n",
    "\n",
    "## 图像变换和增强\n",
    "\n",
    "神经网络是一个学习的过程，它会去学习训练集有什么“特征”。\n",
    "\n",
    "假设我们猫的训练集全都是橘色的，神经网络可能会误以为橘色是“猫”的强特征；在实际推理时若有一张黑色的猫，它不符合“猫”的特征（不是橘色的），从而判断它不是猫。这种现象我们称之为过拟合。\n",
    "\n",
    "最优的方案，当然是我们去拍摄更多猫的照片，其中也要包含各种颜色的猫。\n",
    "\n",
    "凑合一点的方案，是我们将训练集复制几份，“P图”出各种颜色的猫。让神经网络知道，哦原来不管什么颜色都有可能是猫。\n",
    "\n",
    "除了颜色，还有旋转、透视、缩放等等各种各样的“P”法，这一过程可以由框架自动完成，我们称之为图像的变换和增强，参考 [变换示例](https://pytorch.ac.cn/vision/stable/auto_examples/transforms/plot_transforms_illustrations.html#sphx-glr-auto-examples-transforms-plot-transforms-illustrations-py)。\n",
    "\n",
    "更多的变换也需要更多的时间去计算，会增加训练的耗时，但是增加推理的鲁棒性。\n",
    "\n",
    "所以需要根据实际应用场景来决定怎么变换。例如我要分类游戏中的角色，而每个角色的颜色都是固定的，自然就不需要颜色转换。或者如果地球上真的只有橘色的猫，也不需要。\n"
   ]
  },
  {
   "cell_type": "code",
   "execution_count": 3,
   "metadata": {},
   "outputs": [],
   "source": [
    "from torch.utils.data import DataLoader, Dataset\n",
    "from torchvision import transforms\n",
    "from pathlib import Path\n",
    "from collections import defaultdict\n",
    "from PIL import Image\n",
    "\n",
    "\n",
    "class MyDataset(Dataset):\n",
    "    def __init__(self, path: Path):\n",
    "        super().__init__()\n",
    "\n",
    "        self.transform = transforms.Compose(\n",
    "            [\n",
    "                transforms.ColorJitter(),  # 上文提到的颜色抖动\n",
    "                # transforms.RandomPerspective(),   # 随机透视\n",
    "                transforms.RandomAdjustSharpness(2),  # 随机锐度\n",
    "                # ...... 更多变换请根据实际应用场景添加\n",
    "                # https://pytorch.ac.cn/vision/stable/auto_examples/transforms/plot_transforms_illustrations.html#sphx-glr-auto-examples-transforms-plot-transforms-illustrations-py\n",
    "                transforms.ToTensor(),  # 这个是一定要的\n",
    "            ]\n",
    "        )\n",
    "\n",
    "        self.data = []\n",
    "        for f in path.glob(\"*.png\"):\n",
    "            label = f.stem.split(\"-\")[0]\n",
    "\n",
    "            # pytorch 实际会调用 __len__ 和 __getitem__\n",
    "            # 如果不是一次性读入内存，即在每次 __getitem__ 再读文件即可\n",
    "            image = Image.open(f).convert(\"RGB\")\n",
    "\n",
    "            self.data.append((image, label))\n",
    "\n",
    "    def __len__(self):\n",
    "        return len(self.data)\n",
    "\n",
    "    def __getitem__(self, idx):\n",
    "        image, label = self.data[idx]\n",
    "        return self.transform(image), label\n",
    "\n",
    "\n",
    "cwd = Path(\".\")\n",
    "train_data = MyDataset(cwd / \"data\" / \"train\")\n",
    "test_data = MyDataset(cwd / \"data\" / \"train\")\n"
   ]
  }
 ],
 "metadata": {
  "kernelspec": {
   "display_name": "Python 3",
   "language": "python",
   "name": "python3"
  },
  "language_info": {
   "codemirror_mode": {
    "name": "ipython",
    "version": 3
   },
   "file_extension": ".py",
   "mimetype": "text/x-python",
   "name": "python",
   "nbconvert_exporter": "python",
   "pygments_lexer": "ipython3",
   "version": "3.11.7"
  }
 },
 "nbformat": 4,
 "nbformat_minor": 2
}
