{
 "cells": [
  {
   "cell_type": "markdown",
   "metadata": {},
   "source": [
    "# 训练\n",
    "\n",
    "## 准备数据集\n",
    "\n",
    "### 读取数据集\n",
    "\n",
    "读取我们之前步骤中准备好的数据集。\n",
    "\n",
    "根据经验一般分类数据集都不大，为了方便以及运行效率，我们将它们一次性全部读入内存中。\n",
    "\n",
    "如果爆内存了可以修改为要用哪些再读哪些。\n",
    "\n",
    "### 图像变换和增强\n",
    "\n",
    "神经网络是一个学习的过程，它会去学习训练集有什么“特征”。\n",
    "\n",
    "假设我们猫的训练集全都是橘色的，神经网络可能会误以为橘色是“猫”的强特征；在实际推理时若有一张黑色的猫，它不符合“猫”的特征（不是橘色的），从而判断它不是猫。这种现象我们称之为过拟合。\n",
    "\n",
    "最优的方案，当然是我们去拍摄更多猫的照片，其中也要包含各种颜色的猫。\n",
    "\n",
    "凑合一点的方案，是我们将训练集复制几份，“P图”出各种颜色的猫。让神经网络知道，哦原来不管什么颜色都有可能是猫。\n",
    "\n",
    "除了颜色，还有旋转、透视、缩放等等各种各样的“P”法，这一过程可以由框架自动完成，我们称之为图像的变换和增强，参考 [变换示例](https://pytorch.ac.cn/vision/stable/auto_examples/transforms/plot_transforms_illustrations.html#sphx-glr-auto-examples-transforms-plot-transforms-illustrations-py)。\n",
    "\n",
    "更多的变换也需要更多的时间去计算，会增加训练的耗时，但是增加推理的鲁棒性。\n",
    "\n",
    "所以需要根据实际应用场景来决定怎么变换。例如我要分类游戏中的角色，而每个角色的颜色都是固定的，自然就不需要颜色转换。或者如果地球上真的只有橘色的猫，也不需要。\n"
   ]
  },
  {
   "cell_type": "code",
   "execution_count": 1,
   "metadata": {},
   "outputs": [],
   "source": [
    "from torch.utils.data import DataLoader, Dataset\n",
    "from torchvision import transforms\n",
    "from pathlib import Path\n",
    "from collections import defaultdict\n",
    "from PIL import Image\n",
    "\n",
    "\n",
    "class MyDataset(Dataset):\n",
    "    def __init__(self, path: Path):\n",
    "        super().__init__()\n",
    "\n",
    "        self.transform = transforms.Compose(\n",
    "            [\n",
    "                transforms.GaussianBlur(3, sigma=(0.1, 2.0)), # 高斯模糊，卷积核的大小为3x3，水平和垂直方向上的标准偏差分别为 0.1 和 2.0\n",
    "                transforms.RandomPosterize(3),                # 随机压缩\n",
    "                transforms.RandomAdjustSharpness(3),          # 随机锐化\n",
    "                transforms.RandomAutocontrast(),              # 自动对比度调整\n",
    "\n",
    "                # ...... 更多变换请根据实际应用场景添加\n",
    "                # https://pytorch.ac.cn/vision/stable/auto_examples/transforms/plot_transforms_illustrations.html#sphx-glr-auto-examples-transforms-plot-transforms-illustrations-py\n",
    "\n",
    "                transforms.ToTensor(),  # 这个是一定要的\n",
    "            ]\n",
    "        )\n",
    "\n",
    "        self.data = []\n",
    "        for f in path.glob(\"*.png\"):\n",
    "            # 如果你的文件名不是这种格式，请自行修改此处代码\n",
    "            label = f.stem.split(\"-\")[0]\n",
    "\n",
    "            # pytorch 实际会调用 __len__ 和 __getitem__\n",
    "            # 如果内存不够，改为在 __getitem__ 再读文件即可\n",
    "            image = Image.open(f).convert(\"RGB\")\n",
    "\n",
    "            self.data.append(image, label)\n",
    "\n",
    "    def __len__(self):\n",
    "        return len(self.data)\n",
    "\n",
    "    def __getitem__(self, idx):\n",
    "        image, label = self.data[idx]\n",
    "        return (self.transform(image), label)\n"
   ]
  },
  {
   "cell_type": "code",
   "execution_count": 2,
   "metadata": {},
   "outputs": [
    {
     "ename": "TypeError",
     "evalue": "list.append() takes exactly one argument (2 given)",
     "output_type": "error",
     "traceback": [
      "\u001b[0;31m---------------------------------------------------------------------------\u001b[0m",
      "\u001b[0;31mTypeError\u001b[0m                                 Traceback (most recent call last)",
      "Cell \u001b[0;32mIn[2], line 2\u001b[0m\n\u001b[1;32m      1\u001b[0m cwd \u001b[38;5;241m=\u001b[39m Path(\u001b[38;5;124m\"\u001b[39m\u001b[38;5;124m.\u001b[39m\u001b[38;5;124m\"\u001b[39m)\n\u001b[0;32m----> 2\u001b[0m train_data \u001b[38;5;241m=\u001b[39m MyDataset(cwd \u001b[38;5;241m/\u001b[39m \u001b[38;5;124m\"\u001b[39m\u001b[38;5;124mdata\u001b[39m\u001b[38;5;124m\"\u001b[39m \u001b[38;5;241m/\u001b[39m \u001b[38;5;124m\"\u001b[39m\u001b[38;5;124mtrain\u001b[39m\u001b[38;5;124m\"\u001b[39m)\n\u001b[1;32m      3\u001b[0m test_data \u001b[38;5;241m=\u001b[39m MyDataset(cwd \u001b[38;5;241m/\u001b[39m \u001b[38;5;124m\"\u001b[39m\u001b[38;5;124mdata\u001b[39m\u001b[38;5;124m\"\u001b[39m \u001b[38;5;241m/\u001b[39m \u001b[38;5;124m\"\u001b[39m\u001b[38;5;124mtest\u001b[39m\u001b[38;5;124m\"\u001b[39m)\n\u001b[1;32m      4\u001b[0m \u001b[38;5;28mprint\u001b[39m(\u001b[38;5;124mf\u001b[39m\u001b[38;5;124m\"\u001b[39m\u001b[38;5;124mtrain len: \u001b[39m\u001b[38;5;132;01m{\u001b[39;00m\u001b[38;5;28mlen\u001b[39m(train_data)\u001b[38;5;132;01m}\u001b[39;00m\u001b[38;5;124m\"\u001b[39m)\n",
      "Cell \u001b[0;32mIn[1], line 35\u001b[0m, in \u001b[0;36mMyDataset.__init__\u001b[0;34m(self, path)\u001b[0m\n\u001b[1;32m     31\u001b[0m \u001b[38;5;66;03m# pytorch 实际会调用 __len__ 和 __getitem__\u001b[39;00m\n\u001b[1;32m     32\u001b[0m \u001b[38;5;66;03m# 如果内存不够，改为在 __getitem__ 再读文件即可\u001b[39;00m\n\u001b[1;32m     33\u001b[0m image \u001b[38;5;241m=\u001b[39m Image\u001b[38;5;241m.\u001b[39mopen(f)\u001b[38;5;241m.\u001b[39mconvert(\u001b[38;5;124m\"\u001b[39m\u001b[38;5;124mRGB\u001b[39m\u001b[38;5;124m\"\u001b[39m)\n\u001b[0;32m---> 35\u001b[0m \u001b[38;5;28mself\u001b[39m\u001b[38;5;241m.\u001b[39mdata\u001b[38;5;241m.\u001b[39mappend(image, label)\n",
      "\u001b[0;31mTypeError\u001b[0m: list.append() takes exactly one argument (2 given)"
     ]
    }
   ],
   "source": [
    "cwd = Path(\".\")\n",
    "train_data = MyDataset(cwd / \"data\" / \"train\")\n",
    "test_data = MyDataset(cwd / \"data\" / \"test\")\n",
    "print(f\"train len: {len(train_data)}\")\n",
    "print(f\"test len: {len(test_data)}\")\n",
    "\n",
    "# 可根据内存/显存大小调整 batch_size，一般来说越大越快\n",
    "train_loader = DataLoader(train_data, batch_size=64, shuffle=True, num_workers=0)\n",
    "test_loader = DataLoader(test_data, batch_size=64, shuffle=True, num_workers=0)"
   ]
  },
  {
   "cell_type": "markdown",
   "metadata": {},
   "source": [
    "## 构造神经网络\n",
    "\n",
    "网络可以去 [SOTA](https://paperswithcode.com/task/image-classification) 里找：\n",
    "\n",
    "它是按数据集跑分排行的，可以搜一下这些数据集是什么样的，找一个与你的任务最相似的。然后去里面再找一个准确率和体积比较合适的，抄一下它的网络。\n",
    "\n",
    "针对 MaaFW 的开发场景，一般来说我们可能只有几百张软件的截图，不需要什么大型的网络，直接用 MNIST 里的或者网上找一写更简单的网络即可。\n"
   ]
  },
  {
   "cell_type": "code",
   "execution_count": 24,
   "metadata": {},
   "outputs": [
    {
     "name": "stdout",
     "output_type": "stream",
     "text": [
      "WARNING: CPU will be used for training.\n"
     ]
    }
   ],
   "source": [
    "# 本次演示我们使用 GoogleNet，导入本目录下的 google_net.py\n",
    "from google_net import GoogleNet\n",
    "import torch\n",
    "\n",
    "use_cuda = torch.cuda.is_available()\n",
    "device = torch.device(\"cuda\" if use_cuda else \"cpu\")\n",
    "if not use_cuda:\n",
    "    print(\"WARNING: CPU will be used for training.\")\n",
    "\n",
    "# channels - 输入图像的通道数。我们是 RGB 三通道\n",
    "# linear - 线性层输入。这个要计算的，有点复杂，不用管，后面会报错，然后它会告诉你正确的是多少\n",
    "# cls_count - 分类数。我们是 猫、狗、鸟 三分类\n",
    "model = GoogleNet(channels=3, linear=1408, cls_count=3)\n",
    "\n",
    "# 将数据移到 GPU/CPU\n",
    "model = model.to(device)"
   ]
  },
  {
   "cell_type": "markdown",
   "metadata": {},
   "source": [
    "## 构造损失函数和优化器\n",
    "\n",
    "直接用 pytorch 现成的 API 即可，看不懂不用管，也不用管（我也不懂"
   ]
  },
  {
   "cell_type": "code",
   "execution_count": 25,
   "metadata": {},
   "outputs": [],
   "source": [
    "\n",
    "from torch.amp import GradScaler\n",
    "\n",
    "# 这里优化器用的 Adam，可以搜一下不同优化器的区别，挑一种合适的\n",
    "optimizer = torch.optim.Adam(model.parameters(), lr=0.001)  # 学习率可以自己调一下\n",
    "criterion = torch.nn.CrossEntropyLoss().to(device)\n",
    "scaler = GradScaler()"
   ]
  },
  {
   "cell_type": "markdown",
   "metadata": {},
   "source": [
    "## 训练和测试\n",
    "\n",
    "训练的主要三个步骤：前馈(forward) -> 反馈(backward) -> 更新(update)\n",
    "\n",
    "同样的看不懂不用管，有兴趣可以找一下别的深度学习的教程"
   ]
  },
  {
   "cell_type": "code",
   "execution_count": 26,
   "metadata": {},
   "outputs": [],
   "source": [
    "def train(epoch: int):\n",
    "    model.train()\n",
    "    for batch_idx, (data, target) in enumerate(train_loader):\n",
    "\n",
    "        # 将数据移到 GPU/CPU\n",
    "        data = data.to(device)\n",
    "        target = target.to(device)\n",
    "\n",
    "        # 梯度归零\n",
    "        optimizer.zero_grad()\n",
    "\n",
    "        # 前馈\n",
    "        ## 计算 y_pred\n",
    "        output = model(data)\n",
    "        ## 计算损失\n",
    "        loss = criterion(output, target)\n",
    "\n",
    "        # 反馈\n",
    "        ## 反向传播\n",
    "        scaler.scale(loss).backward()\n",
    "\n",
    "        # 更新\n",
    "        scaler.step(optimizer)\n",
    "        scaler.update()\n",
    "\n",
    "        print(\n",
    "            f\"Train Epoch: {epoch} [{batch_idx * len(data)}/{len(train_loader.dataset)} ({100. * batch_idx * len(data) / len(train_loader.dataset):.0f}%)]\\tLoss: {loss.item():.6f}\"\n",
    "        )\n",
    "\n",
    "\n",
    "def test():\n",
    "    model.eval()\n",
    "    test_loss = 0.0\n",
    "    correct = 0\n",
    "    # 测试不需要计算梯度\n",
    "    with torch.no_grad():\n",
    "        for data, target in test_loader:\n",
    "\n",
    "            # 将数据移到 GPU/CPU\n",
    "            data = data.to(device)\n",
    "            target = target.to(device)\n",
    "\n",
    "            # 前馈\n",
    "            output = model(data)\n",
    "            test_loss += criterion(output, target).item()\n",
    "\n",
    "            # 计算准确率\n",
    "            pred = output.argmax(dim=1, keepdim=True)\n",
    "            correct += pred.eq(target.view_as(pred)).sum().item()\n",
    "\n",
    "    test_loss /= len(test_loader.dataset)\n",
    "    acc = 100.0 * correct / len(test_loader.dataset)\n",
    "\n",
    "    print(\n",
    "        f\"\\nTest set: Average loss: {test_loss:.4f}, Accuracy: {correct}/{len(test_loader.dataset)} ({acc:.0f}%)\\n\"\n",
    "    )\n",
    "\n",
    "    return test_loss, acc"
   ]
  },
  {
   "cell_type": "markdown",
   "metadata": {},
   "source": [
    "## 简单的训练流程\n",
    "\n",
    "训练一轮 -> 测一下这轮的损失和精确度 -> 如果比之前更优就保存一下"
   ]
  },
  {
   "cell_type": "code",
   "execution_count": 27,
   "metadata": {},
   "outputs": [
    {
     "ename": "AttributeError",
     "evalue": "'tuple' object has no attribute 'to'",
     "output_type": "error",
     "traceback": [
      "\u001b[0;31m---------------------------------------------------------------------------\u001b[0m",
      "\u001b[0;31mAttributeError\u001b[0m                            Traceback (most recent call last)",
      "Cell \u001b[0;32mIn[27], line 39\u001b[0m\n\u001b[1;32m     33\u001b[0m         \u001b[38;5;28mprint\u001b[39m(\n\u001b[1;32m     34\u001b[0m             \u001b[38;5;124mf\u001b[39m\u001b[38;5;124m\"\u001b[39m\u001b[38;5;124m====== New best is \u001b[39m\u001b[38;5;132;01m{\u001b[39;00mbest_epoch\u001b[38;5;132;01m}\u001b[39;00m\u001b[38;5;124m, Loss: \u001b[39m\u001b[38;5;132;01m{\u001b[39;00mbest_loss\u001b[38;5;132;01m:\u001b[39;00m\u001b[38;5;124m.8f\u001b[39m\u001b[38;5;132;01m}\u001b[39;00m\u001b[38;5;124m, Acc: \u001b[39m\u001b[38;5;132;01m{\u001b[39;00mbest_acc\u001b[38;5;132;01m:\u001b[39;00m\u001b[38;5;124m.4f\u001b[39m\u001b[38;5;132;01m}\u001b[39;00m\u001b[38;5;124m ======\u001b[39m\u001b[38;5;124m\"\u001b[39m\n\u001b[1;32m     35\u001b[0m         )\n\u001b[1;32m     36\u001b[0m         torch\u001b[38;5;241m.\u001b[39msave(model, best_model_path)\n\u001b[0;32m---> 39\u001b[0m pipeline()\n",
      "Cell \u001b[0;32mIn[27], line 18\u001b[0m, in \u001b[0;36mpipeline\u001b[0;34m(start_epoch)\u001b[0m\n\u001b[1;32m     15\u001b[0m \u001b[38;5;28;01mglobal\u001b[39;00m best_epoch, best_loss, best_acc\n\u001b[1;32m     17\u001b[0m \u001b[38;5;28;01mfor\u001b[39;00m epoch \u001b[38;5;129;01min\u001b[39;00m \u001b[38;5;28mrange\u001b[39m(start_epoch, \u001b[38;5;241m1000\u001b[39m):\n\u001b[0;32m---> 18\u001b[0m     train(epoch)\n\u001b[1;32m     19\u001b[0m     loss, acc \u001b[38;5;241m=\u001b[39m test()\n\u001b[1;32m     21\u001b[0m     torch\u001b[38;5;241m.\u001b[39msave(model, output_dir \u001b[38;5;241m/\u001b[39m \u001b[38;5;124mf\u001b[39m\u001b[38;5;124m\"\u001b[39m\u001b[38;5;132;01m{\u001b[39;00mmodel_name\u001b[38;5;132;01m}\u001b[39;00m\u001b[38;5;124m_\u001b[39m\u001b[38;5;132;01m{\u001b[39;00mepoch\u001b[38;5;132;01m}\u001b[39;00m\u001b[38;5;124m.pt\u001b[39m\u001b[38;5;124m\"\u001b[39m)\n",
      "Cell \u001b[0;32mIn[26], line 7\u001b[0m, in \u001b[0;36mtrain\u001b[0;34m(epoch)\u001b[0m\n\u001b[1;32m      3\u001b[0m \u001b[38;5;28;01mfor\u001b[39;00m batch_idx, (data, target) \u001b[38;5;129;01min\u001b[39;00m \u001b[38;5;28menumerate\u001b[39m(train_loader):\n\u001b[1;32m      4\u001b[0m \n\u001b[1;32m      5\u001b[0m     \u001b[38;5;66;03m# 将数据移到 GPU/CPU\u001b[39;00m\n\u001b[1;32m      6\u001b[0m     data \u001b[38;5;241m=\u001b[39m data\u001b[38;5;241m.\u001b[39mto(device)\n\u001b[0;32m----> 7\u001b[0m     target \u001b[38;5;241m=\u001b[39m target\u001b[38;5;241m.\u001b[39mto(device)\n\u001b[1;32m      9\u001b[0m     \u001b[38;5;66;03m# 梯度归零\u001b[39;00m\n\u001b[1;32m     10\u001b[0m     optimizer\u001b[38;5;241m.\u001b[39mzero_grad()\n",
      "\u001b[0;31mAttributeError\u001b[0m: 'tuple' object has no attribute 'to'"
     ]
    }
   ],
   "source": [
    "from pathlib import Path\n",
    "\n",
    "output_dir = Path(\"checkpoints\")\n",
    "output_dir.mkdir(exist_ok=True, parents=True)\n",
    "\n",
    "model_name = model.__class__.__name__\n",
    "best_model_path = output_dir / f\"{model_name}_best.pt\"\n",
    "\n",
    "best_epoch = 0\n",
    "best_loss = 100.0\n",
    "best_acc = 0.0\n",
    "\n",
    "\n",
    "def pipeline(start_epoch=0):\n",
    "    global best_epoch, best_loss, best_acc\n",
    "\n",
    "    for epoch in range(start_epoch, 1000):\n",
    "        train(epoch)\n",
    "        loss, acc = test()\n",
    "\n",
    "        torch.save(model, output_dir / f\"{model_name}_{epoch}.pt\")\n",
    "\n",
    "        if loss > best_loss:\n",
    "            if epoch - best_epoch > 100:\n",
    "                print(\"No improvement for a long time, Early stop!\")\n",
    "                break\n",
    "            else:\n",
    "                continue\n",
    "            \n",
    "        best_epoch = epoch\n",
    "        best_loss = loss\n",
    "        best_acc = acc\n",
    "        print(\n",
    "            f\"====== New best is {best_epoch}, Loss: {best_loss:.8f}, Acc: {best_acc:.4f} ======\"\n",
    "        )\n",
    "        torch.save(model, best_model_path)\n",
    "\n",
    "\n",
    "pipeline()\n"
   ]
  }
 ],
 "metadata": {
  "kernelspec": {
   "display_name": "Python 3",
   "language": "python",
   "name": "python3"
  },
  "language_info": {
   "codemirror_mode": {
    "name": "ipython",
    "version": 3
   },
   "file_extension": ".py",
   "mimetype": "text/x-python",
   "name": "python",
   "nbconvert_exporter": "python",
   "pygments_lexer": "ipython3",
   "version": "3.11.7"
  }
 },
 "nbformat": 4,
 "nbformat_minor": 2
}
